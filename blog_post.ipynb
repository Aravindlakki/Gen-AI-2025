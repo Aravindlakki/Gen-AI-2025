{
  "nbformat": 4,
  "nbformat_minor": 0,
  "metadata": {
    "colab": {
      "provenance": [],
      "authorship_tag": "ABX9TyO/J+PP49y9ITNz8CiJIYAP",
      "include_colab_link": true
    },
    "kernelspec": {
      "name": "python3",
      "display_name": "Python 3"
    },
    "language_info": {
      "name": "python"
    }
  },
  "cells": [
    {
      "cell_type": "markdown",
      "metadata": {
        "id": "view-in-github",
        "colab_type": "text"
      },
      "source": [
        "<a href=\"https://colab.research.google.com/github/Aravindlakki/Gen-AI-2025/blob/main/blog_post.ipynb\" target=\"_parent\"><img src=\"https://colab.research.google.com/assets/colab-badge.svg\" alt=\"Open In Colab\"/></a>"
      ]
    },
    {
      "cell_type": "code",
      "source": [
        "!pip install pandas pillow matplotlib\n"
      ],
      "metadata": {
        "colab": {
          "base_uri": "https://localhost:8080/"
        },
        "id": "fIQkUEmOucmz",
        "outputId": "97f684ba-7a2a-4d27-a3a7-a51c33300d68"
      },
      "execution_count": null,
      "outputs": [
        {
          "output_type": "stream",
          "name": "stdout",
          "text": [
            "Requirement already satisfied: pandas in /usr/local/lib/python3.11/dist-packages (2.2.2)\n",
            "Requirement already satisfied: pillow in /usr/local/lib/python3.11/dist-packages (11.1.0)\n",
            "Requirement already satisfied: matplotlib in /usr/local/lib/python3.11/dist-packages (3.10.0)\n",
            "Requirement already satisfied: numpy>=1.23.2 in /usr/local/lib/python3.11/dist-packages (from pandas) (1.26.4)\n",
            "Requirement already satisfied: python-dateutil>=2.8.2 in /usr/local/lib/python3.11/dist-packages (from pandas) (2.8.2)\n",
            "Requirement already satisfied: pytz>=2020.1 in /usr/local/lib/python3.11/dist-packages (from pandas) (2025.1)\n",
            "Requirement already satisfied: tzdata>=2022.7 in /usr/local/lib/python3.11/dist-packages (from pandas) (2025.1)\n",
            "Requirement already satisfied: contourpy>=1.0.1 in /usr/local/lib/python3.11/dist-packages (from matplotlib) (1.3.1)\n",
            "Requirement already satisfied: cycler>=0.10 in /usr/local/lib/python3.11/dist-packages (from matplotlib) (0.12.1)\n",
            "Requirement already satisfied: fonttools>=4.22.0 in /usr/local/lib/python3.11/dist-packages (from matplotlib) (4.56.0)\n",
            "Requirement already satisfied: kiwisolver>=1.3.1 in /usr/local/lib/python3.11/dist-packages (from matplotlib) (1.4.8)\n",
            "Requirement already satisfied: packaging>=20.0 in /usr/local/lib/python3.11/dist-packages (from matplotlib) (24.2)\n",
            "Requirement already satisfied: pyparsing>=2.3.1 in /usr/local/lib/python3.11/dist-packages (from matplotlib) (3.2.1)\n",
            "Requirement already satisfied: six>=1.5 in /usr/local/lib/python3.11/dist-packages (from python-dateutil>=2.8.2->pandas) (1.17.0)\n"
          ]
        }
      ]
    },
    {
      "cell_type": "code",
      "source": [
        "import pandas as pd\n",
        "\n",
        "# Define the dataset\n",
        "data = {\n",
        "    \"blog_id\": [1, 2, 3, 4, 5],\n",
        "    \"title\": [\n",
        "        \"Understanding the Role of AI in Blogging\",\n",
        "        \"Top Tips for Engaging Content Creation\",\n",
        "        \"Machine Learning: The Next Frontier in Writing\",\n",
        "        \"How AI is Changing Digital Marketing\",\n",
        "        \"Creative Uses of GPT Models for Writers\"\n",
        "    ],\n",
        "    \"content\": [\n",
        "        \"AI has redefined how bloggers approach content creation, making it efficient and personalized.\",\n",
        "        \"Learn how to create captivating blogs that engage readers and build your audience.\",\n",
        "        \"Explore how machine learning is shaping the future of automated writing tools.\",\n",
        "        \"Digital marketing is evolving with AI-powered tools enhancing targeting and engagement.\",\n",
        "        \"Discover innovative ways writers can leverage GPT models for storytelling.\"\n",
        "    ],\n",
        "    \"category\": [\"AI\", \"Writing Tips\", \"Technology\", \"Marketing\", \"Creativity\"],\n",
        "    \"views\": [1050, 765, 1200, 890, 540]\n",
        "}\n",
        "\n",
        "# Create a pandas DataFrame\n",
        "df = pd.DataFrame(data)\n",
        "\n",
        "# Save the dataset as a CSV file\n",
        "output_file = \"blog_dataset.csv\"\n",
        "df.to_csv(output_file, index=False)\n",
        "\n",
        "print(\"Dataset created and saved as 'blog_dataset.csv'\")\n",
        "print(\"Dataset Preview:\")\n",
        "print(df)\n"
      ],
      "metadata": {
        "colab": {
          "base_uri": "https://localhost:8080/"
        },
        "id": "3j1zeijUugLu",
        "outputId": "e8597d8d-e237-40d2-fa81-2794b68c9d98"
      },
      "execution_count": null,
      "outputs": [
        {
          "output_type": "stream",
          "name": "stdout",
          "text": [
            "Dataset created and saved as 'blog_dataset.csv'\n",
            "Dataset Preview:\n",
            "   blog_id                                           title  \\\n",
            "0        1        Understanding the Role of AI in Blogging   \n",
            "1        2          Top Tips for Engaging Content Creation   \n",
            "2        3  Machine Learning: The Next Frontier in Writing   \n",
            "3        4            How AI is Changing Digital Marketing   \n",
            "4        5         Creative Uses of GPT Models for Writers   \n",
            "\n",
            "                                             content      category  views  \n",
            "0  AI has redefined how bloggers approach content...            AI   1050  \n",
            "1  Learn how to create captivating blogs that eng...  Writing Tips    765  \n",
            "2  Explore how machine learning is shaping the fu...    Technology   1200  \n",
            "3  Digital marketing is evolving with AI-powered ...     Marketing    890  \n",
            "4  Discover innovative ways writers can leverage ...    Creativity    540  \n"
          ]
        }
      ]
    },
    {
      "cell_type": "code",
      "execution_count": null,
      "metadata": {
        "id": "J7WbVGbrt2Ki"
      },
      "outputs": [],
      "source": [
        "import random\n",
        "from PIL import Image, ImageDraw, ImageFont\n",
        "import matplotlib.pyplot as plt\n"
      ]
    },
    {
      "cell_type": "code",
      "source": [
        "# Define a function to generate the blog poster\n",
        "def generate_blog_poster(title, subtitle, width=800, height=1000):\n",
        "    # Create a blank white canvas\n",
        "    img = Image.new(\"RGB\", (width, height), \"white\")\n",
        "    draw = ImageDraw.Draw(img)\n",
        "\n",
        "    # Add a blue banner for the title\n",
        "    banner_color = (30, 144, 255)  # Dodger Blue\n",
        "    draw.rectangle([0, 0, width, 150], fill=banner_color)\n",
        "\n",
        "    # Add the title text\n",
        "    try:\n",
        "        title_font = ImageFont.truetype(\"arial.ttf\", 50)\n",
        "    except IOError:\n",
        "        title_font = ImageFont.load_default()\n",
        "\n",
        "    # Use textbbox instead of textsize\n",
        "    title_bbox = draw.textbbox((0, 0), title, font=title_font)\n",
        "    title_x = (width - (title_bbox[2] - title_bbox[0])) // 2 # Calculate width from bbox\n",
        "    title_y = 40\n",
        "    draw.text((title_x, title_y), title, fill=\"white\", font=title_font)\n",
        "\n",
        "    # Add the subtitle below the banner\n",
        "    try:\n",
        "        subtitle_font = ImageFont.truetype(\"arial.ttf\", 30)\n",
        "    except IOError:\n",
        "        subtitle_font = ImageFont.load_default()\n",
        "\n",
        "    # Use textbbox instead of textsize\n",
        "    subtitle_bbox = draw.textbbox((0, 0), subtitle, font=subtitle_font)\n",
        "    subtitle_x = 40 # keep x position unchanged\n",
        "\n",
        "    draw.text((subtitle_x, 200), subtitle, fill=\"black\", font=subtitle_font)\n",
        "\n",
        "    # ... (Rest of the code remains the same)\n",
        "\n",
        "    # Add a footer for author information\n",
        "    footer_color = (70, 70, 70)  # Dark Gray\n",
        "    draw.rectangle([0, height - 100, width, height], fill=footer_color)\n",
        "    footer_text = \"AI Blog Generator | Author: Aravind\"\n",
        "\n",
        "    # Use textbbox instead of textsize for footer as well\n",
        "    footer_bbox = draw.textbbox((0, 0), footer_text, font=subtitle_font)\n",
        "    footer_x = (width - (footer_bbox[2] - footer_bbox[0])) // 2  # Calculate width from bbox\n",
        "    footer_y = height - 70\n",
        "    draw.text((footer_x, footer_y), footer_text, fill=\"white\", font=subtitle_font)\n",
        "\n",
        "    return img"
      ],
      "metadata": {
        "id": "V9ydXp2rt29N"
      },
      "execution_count": null,
      "outputs": []
    },
    {
      "cell_type": "code",
      "source": [
        "# Load the dataset\n",
        "df = pd.read_csv(\"blog_dataset.csv\")\n",
        "\n",
        "# Choose a blog post\n",
        "title = df[\"title\"][0]  # First blog title\n",
        "subtitle = df[\"content\"][0]  # Corresponding blog content\n",
        "\n",
        "# Generate the blog poster\n",
        "poster = generate_blog_poster(title, subtitle)\n",
        "\n",
        "# Display the poster\n",
        "plt.imshow(poster)\n",
        "plt.axis(\"off\")\n",
        "plt.show()\n",
        "\n",
        "# Save the poster\n",
        "poster.save(\"blog_poster.png\")\n",
        "print(\"Blog poster saved as 'blog_poster.png'\")\n"
      ],
      "metadata": {
        "colab": {
          "base_uri": "https://localhost:8080/",
          "height": 424
        },
        "id": "HCNuONzbuC1o",
        "outputId": "e4004580-cd29-47b0-e4c5-0bb04a8f48b6"
      },
      "execution_count": null,
      "outputs": [
        {
          "output_type": "display_data",
          "data": {
            "text/plain": [
              "<Figure size 640x480 with 1 Axes>"
            ],
            "image/png": "[encoded data removed]"
          },
          "metadata": {}
        },
        {
          "output_type": "stream",
          "name": "stdout",
          "text": [
            "Blog poster saved as 'blog_poster.png'\n"
          ]
        }
      ]
    },
    {
      "cell_type": "code",
      "source": [
        "!pip install rouge-score\n"
      ],
      "metadata": {
        "colab": {
          "base_uri": "https://localhost:8080/"
        },
        "id": "cvXOO0qwuHk_",
        "outputId": "78400464-519a-4086-e49e-c01cf53d1d5a"
      },
      "execution_count": null,
      "outputs": [
        {
          "output_type": "stream",
          "name": "stdout",
          "text": [
            "Collecting rouge-score\n",
            "  Downloading rouge_score-0.1.2.tar.gz (17 kB)\n",
            "  Preparing metadata (setup.py) ... \u001b[?25l\u001b[?25hdone\n",
            "Requirement already satisfied: absl-py in /usr/local/lib/python3.11/dist-packages (from rouge-score) (1.4.0)\n",
            "Requirement already satisfied: nltk in /usr/local/lib/python3.11/dist-packages (from rouge-score) (3.9.1)\n",
            "Requirement already satisfied: numpy in /usr/local/lib/python3.11/dist-packages (from rouge-score) (1.26.4)\n",
            "Requirement already satisfied: six>=1.14.0 in /usr/local/lib/python3.11/dist-packages (from rouge-score) (1.17.0)\n",
            "Requirement already satisfied: click in /usr/local/lib/python3.11/dist-packages (from nltk->rouge-score) (8.1.8)\n",
            "Requirement already satisfied: joblib in /usr/local/lib/python3.11/dist-packages (from nltk->rouge-score) (1.4.2)\n",
            "Requirement already satisfied: regex>=2021.8.3 in /usr/local/lib/python3.11/dist-packages (from nltk->rouge-score) (2024.11.6)\n",
            "Requirement already satisfied: tqdm in /usr/local/lib/python3.11/dist-packages (from nltk->rouge-score) (4.67.1)\n",
            "Building wheels for collected packages: rouge-score\n",
            "  Building wheel for rouge-score (setup.py) ... \u001b[?25l\u001b[?25hdone\n",
            "  Created wheel for rouge-score: filename=rouge_score-0.1.2-py3-none-any.whl size=24935 sha256=bac4b39e757e982642691e5c6c9913c77dc7493d74e1ffa4d2a4501c54dd9895\n",
            "  Stored in directory: /root/.cache/pip/wheels/1e/19/43/8a442dc83660ca25e163e1bd1f89919284ab0d0c1475475148\n",
            "Successfully built rouge-score\n",
            "Installing collected packages: rouge-score\n",
            "Successfully installed rouge-score-0.1.2\n"
          ]
        }
      ]
    },
    {
      "cell_type": "code",
      "source": [
        "import pandas as pd\n",
        "import numpy as np\n",
        "import torch\n",
        "from transformers import T5Tokenizer, T5ForConditionalGeneration\n",
        "from PIL import Image, ImageDraw, ImageFont\n",
        "import cv2\n",
        "import matplotlib.pyplot as plt\n",
        "import random\n",
        "from rouge_score import rouge_scorer  # Fixed: Changed 'rouge' to 'rouge_score' and import rouge_scorer\n",
        "from nltk.translate.bleu_score import sentence_bleu\n",
        "from sklearn.metrics import mean_squared_error\n",
        "from sklearn.metrics.pairwise import cosine_similarity\n",
        "\n",
        "# Load Alternative Dataset\n",
        "data = {\n",
        "    \"title\": [\n",
        "        \"Exploring the Impact of AI on Content Creation\",\n",
        "        \"How Machine Learning is Transforming Blogging\",\n",
        "        \"The Future of Automated Writing Tools\"\n",
        "    ],\n",
        "    \"content\": [\n",
        "        \"AI-powered tools like GPT and T5 are revolutionizing how blogs are written, making content creation faster and more efficient.\",\n",
        "        \"Machine learning enables personalized and data-driven blog recommendations, enhancing user engagement.\",\n",
        "        \"With advancements in AI, automated writing tools are becoming more sophisticated, allowing high-quality content generation.\"\n",
        "    ]\n",
        "}\n",
        "df = pd.DataFrame(data)\n",
        "\n",
        "prompt = df['title'][0]  # Using the first blog title as input\n",
        "blog_text = df['content'][0]  # Corresponding blog content\n",
        "\n",
        "# Load T5 Model and Tokenizer\n",
        "tokenizer = T5Tokenizer.from_pretrained(\"t5-small\")\n",
        "model = T5ForConditionalGeneration.from_pretrained(\"t5-small\")\n",
        "\n",
        "# Generate Blog Content\n",
        "input_text = \"summarize: \" + prompt\n",
        "input_ids = tokenizer.encode(input_text, return_tensors=\"pt\")\n",
        "output = model.generate(input_ids, max_length=100, num_return_sequences=1)\n",
        "generated_text = tokenizer.decode(output[0], skip_special_tokens=True)\n",
        "\n",
        "# Compute ROUGE Score\n",
        "scorer = rouge_scorer.RougeScorer(['rouge1', 'rouge2', 'rougeL'], use_stemmer=True)\n",
        "rouge_scores = scorer.score(blog_text, generated_text)\n",
        "\n",
        "# Compute BLEU Score\n",
        "reference = [blog_text.split()]\n",
        "candidate = generated_text.split()\n",
        "bleu_score = sentence_bleu(reference, candidate)\n",
        "\n",
        "# Compute MSE using Token Embeddings\n",
        "real_embeddings = tokenizer.encode(blog_text, return_tensors=\"pt\").numpy()\n",
        "gen_embeddings = tokenizer.encode(generated_text, return_tensors=\"pt\").numpy()\n",
        "\n",
        "# Pad tokenized sequences to the same length\n",
        "max_len = max(len(real_embeddings[0]), len(gen_embeddings[0]))\n",
        "real_padded = np.pad(real_embeddings[0], (0, max_len - len(real_embeddings[0])), mode='constant')\n",
        "gen_padded = np.pad(gen_embeddings[0], (0, max_len - len(gen_embeddings[0])), mode='constant')\n",
        "\n",
        "mse_score = mean_squared_error(real_padded, gen_padded)\n",
        "min_len = min(real_embeddings.shape[1], gen_embeddings.shape[1])\n",
        "real_truncated = real_embeddings[:, :min_len]\n",
        "gen_truncated = gen_embeddings[:, :min_len]\n",
        "\n",
        "cosine_sim = cosine_similarity(real_truncated, gen_truncated)[0][0]\n",
        "\n",
        "\n",
        "# Display Scores\n",
        "print(\"ROUGE Scores:\", rouge_scores)\n",
        "print(\"BLEU Score:\", bleu_score)\n",
        "print(\"MSE Score:\", mse_score)\n",
        "print(\"Cosine Similarity:\", cosine_sim)\n",
        "\n",
        "# Create an AI-Generated Abstract Image with Bold Central Text Mask\n",
        "def generate_ai_style_image(text, width=800, height=600):\n",
        "    img = Image.new(\"RGB\", (width, height), \"black\")\n",
        "    draw = ImageDraw.Draw(img)\n",
        "\n",
        "    # Generate vibrant abstract background\n",
        "    for _ in range(50):\n",
        "        shape_type = random.choice([\"circle\", \"rectangle\", \"line\"])\n",
        "        x1, y1 = random.randint(0, width), random.randint(0, height)\n",
        "        x2, y2 = random.randint(x1, width), random.randint(y1, height)\n",
        "        color = tuple(random.randint(50, 255) for _ in range(3))\n",
        "\n",
        "        if shape_type == \"circle\":\n",
        "            draw.ellipse([x1, y1, x2, y2], fill=color, outline=color)\n",
        "        elif shape_type == \"rectangle\":\n",
        "            draw.rectangle([x1, y1, x2, y2], fill=color, outline=color)\n",
        "        else:\n",
        "            draw.line([x1, y1, x2, y2], fill=color, width=5)\n",
        "\n",
        "    # Add bold centered text\n",
        "    try:\n",
        "        font = ImageFont.truetype(\"arial.ttf\", 80)  # Larger bold font\n",
        "    except IOError:\n",
        "        font = ImageFont.load_default()\n",
        "\n",
        "    text_bbox = draw.textbbox((0, 0), text, font=font)\n",
        "    text_width = text_bbox[2] - text_bbox[0]\n",
        "    text_height = text_bbox[3] - text_bbox[1]\n",
        "    text_x = (width - text_width) // 2\n",
        "    text_y = (height - text_height) // 2\n",
        "\n",
        "    # Create a text mask effect\n",
        "    draw.rectangle([text_x - 20, text_y - 20, text_x + text_width + 20, text_y + text_height + 20], fill=(0, 0, 0, 128))\n",
        "    draw.text((text_x, text_y), text, fill=(255, 255, 255, 255), font=font)\n",
        "\n",
        "    return img\n",
        "\n",
        "# Generate Image with Blog Title\n",
        "ai_generated_image = generate_ai_style_image(prompt)\n",
        "\n",
        "# Show Image\n",
        "plt.imshow(ai_generated_image)\n",
        "plt.axis(\"off\")\n",
        "plt.show()\n",
        "\n",
        "# Save the Image\n",
        "ai_generated_image.save(\"ai_generated_blog_post.png\")\n"
      ],
      "metadata": {
        "colab": {
          "base_uri": "https://localhost:8080/"
        },
        "id": "H72RHpY8Fe1S",
        "outputId": "13b9f39a-35a3-4d76-c70a-f21cf2d8b200"
      },
      "execution_count": null,
      "outputs": [
        {
          "output_type": "stream",
          "name": "stdout",
          "text": [
            "ROUGE Scores: {'rouge1': Score(precision=0.15789473684210525, recall=0.15, fmeasure=0.15384615384615385), 'rouge2': Score(precision=0.05555555555555555, recall=0.05263157894736842, fmeasure=0.05405405405405406), 'rougeL': Score(precision=0.15789473684210525, recall=0.15, fmeasure=0.15384615384615385)}\n",
            "BLEU Score: 1.0377133938315695e-231\n",
            "MSE Score: 25475532.296296295\n",
            "Cosine Similarity: 0.32022236994541353\n"
          ]
        },
        {
          "output_type": "stream",
          "name": "stderr",
          "text": [
            "/usr/local/lib/python3.11/dist-packages/nltk/translate/bleu_score.py:577: UserWarning: \n",
            "The hypothesis contains 0 counts of 2-gram overlaps.\n",
            "Therefore the BLEU score evaluates to 0, independently of\n",
            "how many N-gram overlaps of lower order it contains.\n",
            "Consider using lower n-gram order or use SmoothingFunction()\n",
            "  warnings.warn(_msg)\n",
            "/usr/local/lib/python3.11/dist-packages/nltk/translate/bleu_score.py:577: UserWarning: \n",
            "The hypothesis contains 0 counts of 3-gram overlaps.\n",
            "Therefore the BLEU score evaluates to 0, independently of\n",
            "how many N-gram overlaps of lower order it contains.\n",
            "Consider using lower n-gram order or use SmoothingFunction()\n",
            "  warnings.warn(_msg)\n",
            "/usr/local/lib/python3.11/dist-packages/nltk/translate/bleu_score.py:577: UserWarning: \n",
            "The hypothesis contains 0 counts of 4-gram overlaps.\n",
            "Therefore the BLEU score evaluates to 0, independently of\n",
            "how many N-gram overlaps of lower order it contains.\n",
            "Consider using lower n-gram order or use SmoothingFunction()\n",
            "  warnings.warn(_msg)\n"
          ]
        },
        {
          "output_type": "display_data",
          "data": {
            "text/plain": [
              "<Figure size 640x480 with 1 Axes>"
            ],
            "image/png": "[encoded data removed]"
          },
          "metadata": {}
        }
      ]
    },
    {
      "cell_type": "code",
      "source": [
        "import csv"
      ],
      "metadata": {
        "id": "S9guq-E0jdo6"
      },
      "execution_count": 1,
      "outputs": []
    },
    {
      "cell_type": "code",
      "source": [
        "# Define the data\n",
        "data = [\n",
        "    {\n",
        "        \"title\": \"Health\",\n",
        "        \"description\": \"\"\"The health industry is evolving rapidly with breakthroughs in medical research, fitness, and nutrition.\n",
        "        Personalized medicine, AI-driven diagnostics, and telehealth services are becoming more common.\n",
        "        Mental health awareness is at an all-time high, encouraging people to focus on self-care and mindfulness.\n",
        "        Functional foods, supplements, and biohacking are gaining popularity for longevity and optimal performance.\n",
        "        Wearable health technology, like smartwatches and fitness trackers, is making it easier to monitor health metrics.\n",
        "        Home workouts, virtual training programs, and AI-powered fitness coaching are revolutionizing the fitness industry.\n",
        "        Preventive healthcare is taking center stage, with people prioritizing regular checkups and healthy lifestyles.\n",
        "        Advances in biotechnology, including gene therapy and regenerative medicine, offer hope for curing diseases.\n",
        "        Mental health apps are providing accessible solutions for stress management, anxiety, and depression.\n",
        "        Plant-based and sustainable nutrition choices are on the rise, driven by both health and environmental concerns.\"\"\"\n",
        "    },\n",
        "    {\n",
        "        \"title\": \"Tech\",\n",
        "        \"description\": \"\"\"Technology is advancing at an unprecedented pace, shaping industries and everyday life.\n",
        "        Artificial Intelligence (AI) is being integrated into various sectors, from healthcare to finance.\n",
        "        The Internet of Things (IoT) is connecting devices to create smarter homes and cities.\n",
        "        Quantum computing is on the rise, promising solutions to complex problems beyond traditional computing power.\n",
        "        The metaverse and virtual reality (VR) are revolutionizing gaming, work, and social interactions.\n",
        "        Blockchain technology is expanding beyond cryptocurrency into supply chain management and security.\n",
        "        Self-driving cars and electric vehicles are redefining the future of transportation.\n",
        "        Advances in robotics and automation are transforming manufacturing, logistics, and even customer service.\n",
        "        Cybersecurity remains a top priority as digital threats become more sophisticated.\n",
        "        5G technology is enhancing mobile connectivity, enabling faster and more reliable communication.\"\"\"\n",
        "    },\n",
        "    {\n",
        "        \"title\": \"Travel\",\n",
        "        \"description\": \"\"\"Travel is undergoing a transformation as sustainability and personalization become key trends.\n",
        "        Eco-tourism is growing, with travelers seeking environmentally friendly experiences.\n",
        "        Digital nomadism is increasing, as remote work allows people to explore the world while working online.\n",
        "        AI-powered travel assistants and chatbots are making trip planning easier and more efficient.\n",
        "        Smart airports and biometric security systems are streamlining the travel experience.\n",
        "        Space tourism is no longer a dream, with companies like SpaceX and Blue Origin making progress.\n",
        "        Wellness travel is booming, with people seeking retreats for meditation, yoga, and relaxation.\n",
        "        Virtual tourism is emerging, allowing people to explore destinations from their homes.\n",
        "        Culinary tourism is gaining popularity as travelers seek authentic food experiences.\n",
        "        AI-generated itineraries and smart recommendations are personalizing travel like never before.\"\"\"\n",
        "    }\n",
        "]\n",
        "\n",
        "# Define the filename\n",
        "filename = \"blog_topics.csv\"\n",
        "\n",
        "# Write data to CSV\n",
        "with open(filename, mode=\"w\", newline=\"\", encoding=\"utf-8\") as file:\n",
        "    writer = csv.DictWriter(file, fieldnames=[\"title\", \"description\"])\n",
        "    writer.writeheader()\n",
        "    writer.writerows(data)\n",
        "\n",
        "print(f\"CSV file '{filename}' has been created successfully!\")\n"
      ],
      "metadata": {
        "colab": {
          "base_uri": "https://localhost:8080/"
        },
        "id": "_IGbF0qanMcm",
        "outputId": "f20fb291-df8a-485c-80fe-45cf50c7debc"
      },
      "execution_count": 10,
      "outputs": [
        {
          "output_type": "stream",
          "name": "stdout",
          "text": [
            "CSV file 'blog_topics.csv' has been created successfully!\n"
          ]
        }
      ]
    },
    {
      "cell_type": "code",
      "source": [
        "import pandas as pd\n",
        "from PIL import Image, ImageDraw, ImageFont\n",
        "import os\n",
        "from flask import Flask, send_file\n",
        "\n",
        "app = Flask(__name__)\n",
        "\n",
        "def create_poster(title, description, niche):\n",
        "    \"\"\"\n",
        "    Generate a poster with an image background and text overlay.\n",
        "    The poster is displayed and saved as a file.\n",
        "\n",
        "    Args:\n",
        "        title (str): The title of the poster.\n",
        "        description (str): The detailed description for the poster.\n",
        "        niche (str): The category/niche of the poster (e.g., health, tech, travel).\n",
        "    \"\"\"\n",
        "    # Create a blank background image\n",
        "    width, height = 800, 600\n",
        "    background_color = (50, 50, 150)  # Dark blue background\n",
        "    background = Image.new('RGB', (width, height), color=background_color)\n",
        "\n",
        "    # Load fonts\n",
        "    try:\n",
        "        font_title = ImageFont.truetype(\"arial.ttf\", size=40)  # Title font\n",
        "        font_description = ImageFont.truetype(\"arial.ttf\", size=24)  # Description font\n",
        "    except OSError:\n",
        "        # Fallback to default font if custom font is not available\n",
        "        font_title = ImageFont.load_default()\n",
        "        font_description = ImageFont.load_default()\n",
        "\n",
        "    # Draw text on the image\n",
        "    draw = ImageDraw.Draw(background)\n",
        "\n",
        "    # Add title to the poster\n",
        "    draw.text((50, 50), title, fill=\"yellow\", font=font_title)\n",
        "\n",
        "    # Add description to the poster\n",
        "    y_text = 150\n",
        "    for line in description.split(\"\\n\"):\n",
        "        draw.text((50, y_text), line, fill=\"white\", font=font_description)\n",
        "        y_text += 30\n",
        "\n",
        "    # Save and show the poster\n",
        "    output_filename = f\"{niche}_{title.replace(' ', '_')}.jpg\"\n",
        "    background.save(output_filename)\n",
        "\n",
        "    print(f\"Poster saved as: {output_filename}\")\n",
        "\n",
        "    # Display the poster\n",
        "    background.show()\n",
        "\n",
        "# Read dataset from CSV file\n",
        "csv_filename = \"topics_dataset.csv\"  # Replace with your CSV file name\n",
        "df = pd.read_csv(\"/content/blog_topics.csv\")\n",
        "\n",
        "# Generate posters for all entries in the dataset\n",
        "posters = []\n",
        "for _, row in df.iterrows():\n",
        "    create_poster(row[\"title\"], row[\"description\"], row[\"title\"].lower())\n",
        "    posters.append(f\"{row['title'].lower().replace(' ', '_')}_{row['title'].replace(' ', '_')}.jpg\")\n",
        "\n",
        "# Create a Flask app to serve the posters for download\n",
        "@app.route('/download/<filename>')\n",
        "def download_poster(filename):\n",
        "    return send_file(filename, as_attachment=True)\n",
        "\n",
        "if __name__ == \"__main__\":\n",
        "    print(\"Posters generated. Visit http://127.0.0.1:5000/download/<filename> to download.\")\n",
        "    print(\"Available posters:\")\n",
        "    for poster in posters:\n",
        "        print(f\"http://127.0.0.1:5000/download/{poster}\")\n",
        "    app.run(debug=True)\n"
      ],
      "metadata": {
        "colab": {
          "base_uri": "https://localhost:8080/"
        },
        "id": "5ci1OcmukAfn",
        "outputId": "57c84d7d-1f00-4297-96fe-665b48e59536"
      },
      "execution_count": 11,
      "outputs": [
        {
          "metadata": {
            "tags": null
          },
          "name": "stdout",
          "output_type": "stream",
          "text": [
            "Poster saved as: health_Health.jpg\n",
            "Poster saved as: tech_Tech.jpg\n",
            "Poster saved as: travel_Travel.jpg\n",
            "Posters generated. Visit http://127.0.0.1:5000/download/<filename> to download.\n",
            "Available posters:\n",
            "http://127.0.0.1:5000/download/health_Health.jpg\n",
            "http://127.0.0.1:5000/download/tech_Tech.jpg\n",
            "http://127.0.0.1:5000/download/travel_Travel.jpg\n",
            " * Serving Flask app '__main__'\n",
            " * Debug mode: on\n"
          ]
        },
        {
          "metadata": {
            "tags": null
          },
          "name": "stderr",
          "output_type": "stream",
          "text": [
            "INFO:werkzeug:\u001b[31m\u001b[1mWARNING: This is a development server. Do not use it in a production deployment. Use a production WSGI server instead.\u001b[0m\n",
            " * Running on http://127.0.0.1:5000\n",
            "INFO:werkzeug:\u001b[33mPress CTRL+C to quit\u001b[0m\n",
            "INFO:werkzeug: * Restarting with stat\n"
          ]
        }
      ]
    }
  ]
}