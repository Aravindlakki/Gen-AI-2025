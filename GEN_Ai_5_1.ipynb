{
  "nbformat": 4,
  "nbformat_minor": 0,
  "metadata": {
    "colab": {
      "provenance": [],
      "authorship_tag": "ABX9TyORMw9MlAEF8Mczsb8in8kz",
      "include_colab_link": true
    },
    "kernelspec": {
      "name": "python3",
      "display_name": "Python 3"
    },
    "language_info": {
      "name": "python"
    }
  },
  "cells": [
    {
      "cell_type": "markdown",
      "metadata": {
        "id": "view-in-github",
        "colab_type": "text"
      },
      "source": [
        "<a href=\"https://colab.research.google.com/github/Aravindlakki/Gen-AI-2025/blob/main/GEN_Ai_5_1.ipynb\" target=\"_parent\"><img src=\"https://colab.research.google.com/assets/colab-badge.svg\" alt=\"Open In Colab\"/></a>"
      ]
    },
    {
      "cell_type": "code",
      "execution_count": null,
      "metadata": {
        "colab": {
          "base_uri": "https://localhost:8080/"
        },
        "id": "fUwVzbR8FEzn",
        "outputId": "f6c82820-7140-4647-e1e1-9e004fc2be3d"
      },
      "outputs": [
        {
          "output_type": "stream",
          "name": "stdout",
          "text": [
            "Train MSE: 6.936295336769089e-08\n",
            "Test MSE: 2.0177682502906786e-07\n",
            "Enter x1 (or 'q' to quit): 0.4\n",
            "Enter x2: 0.5\n",
            "Predicted output: 0.36012940269448435\n",
            "Enter x1 (or 'q' to quit): 0.5\n",
            "Enter x2: 0.6\n",
            "Predicted output: 0.3658732778115688\n"
          ]
        }
      ],
      "source": [
        "import numpy as np\n",
        "def sigmoid(x):\n",
        "    return 1 / (1 + np.exp(-x))\n",
        "\n",
        "def sigmoid_derivative(x):\n",
        "    return x * (1 - x)\n",
        "\n",
        "def linear(x):\n",
        "    return x\n",
        "\n",
        "def linear_derivative(x):\n",
        "    return 1\n",
        "class ANN:\n",
        "    def __init__(self, input_size, hidden_size, output_size):\n",
        "        self.weights1 = np.random.rand(input_size, hidden_size)\n",
        "        self.bias1 = np.random.rand(1, hidden_size)\n",
        "        self.weights2 = np.random.rand(hidden_size, output_size)\n",
        "        self.bias2 = np.random.rand(1, output_size)\n",
        "\n",
        "    def forward(self, X):\n",
        "        self.hidden_output = sigmoid(np.dot(X, self.weights1) + self.bias1)\n",
        "        self.output = linear(np.dot(self.hidden_output, self.weights2) + self.bias2)\n",
        "        return self.output\n",
        "\n",
        "    def backward(self, X, y, learning_rate):\n",
        "        error_output = y - self.output\n",
        "        delta_output = error_output * linear_derivative(self.output)\n",
        "\n",
        "        error_hidden = delta_output.dot(self.weights2.T)\n",
        "        delta_hidden = error_hidden * sigmoid_derivative(self.hidden_output)\n",
        "        self.weights2 += self.hidden_output.T.dot(delta_output) * learning_rate\n",
        "        self.bias2 += np.sum(delta_output, axis=0, keepdims=True) * learning_rate\n",
        "        self.weights1 += X.T.dot(delta_hidden) * learning_rate\n",
        "        self.bias1 += np.sum(delta_hidden, axis=0, keepdims=True) * learning_rate\n",
        "\n",
        "    def train(self, X, y, epochs, learning_rate):\n",
        "        for epoch in range(epochs):\n",
        "            output = self.forward(X)\n",
        "            self.backward(X, y, learning_rate)\n",
        "\n",
        "    def predict(self, X):\n",
        "        self.forward(X)\n",
        "        return self.output\n",
        "\n",
        "X_train = np.array([[0.1, 0.2], [0.2, 0.3], [0.3, 0.4], [0.6, 0.7], [0.7, 0.8], [0.8, 0.9]])\n",
        "y_train = np.array([[0.3432], [0.3490], [0.3548], [0.3720], [0.3776], [0.3832]])\n",
        "\n",
        "X_test = np.array([[0.4, 0.5], [0.5, 0.6]])\n",
        "y_test = np.array([[0.3606], [0.3663]])\n",
        "\n",
        "input_size = 2\n",
        "hidden_size = 4\n",
        "output_size = 1\n",
        "ann = ANN(input_size, hidden_size, output_size)\n",
        "\n",
        "epochs = 5000\n",
        "learning_rate = 0.1\n",
        "ann.train(X_train, y_train, epochs, learning_rate)\n",
        "\n",
        "def calculate_mse(X, y, model):\n",
        "    predictions = model.predict(X)\n",
        "    mse = np.mean((y - predictions) ** 2)\n",
        "    return mse\n",
        "\n",
        "train_mse = calculate_mse(X_train, y_train, ann)\n",
        "test_mse = calculate_mse(X_test, y_test, ann)\n",
        "\n",
        "print(\"Train MSE:\", train_mse)\n",
        "print(\"Test MSE:\", test_mse)\n",
        "\n",
        "while True:\n",
        "    try:\n",
        "        x1 = float(input(\"Enter x1 (or 'q' to quit): \"))\n",
        "        if x1 == 'q':\n",
        "            break\n",
        "        x2 = float(input(\"Enter x2: \"))\n",
        "        user_input = np.array([[x1, x2]])\n",
        "        prediction = ann.predict(user_input)\n",
        "        print(\"Predicted output:\", prediction[0][0])\n",
        "    except ValueError:\n",
        "        print(\"Invalid input. Please enter numbers.\")"
      ]
    }
  ]
}